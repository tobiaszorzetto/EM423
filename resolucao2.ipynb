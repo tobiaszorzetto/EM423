{
 "cells": [
  {
   "cell_type": "code",
   "execution_count": 14,
   "source": [
    "with open(\"teste2.txt\", \"r\") as arquivo:\n",
    "    lista = []\n",
    "    for linha in arquivo:\n",
    "        try:\n",
    "            lista.append(float(linha.strip()))\n",
    "        except EOFError:\n",
    "            break\n",
    "    print(lista)"
   ],
   "outputs": [
    {
     "output_type": "stream",
     "name": "stdout",
     "text": [
      "[335.0, 260.0, 0.24]\n"
     ]
    }
   ],
   "metadata": {}
  },
  {
   "cell_type": "code",
   "execution_count": 15,
   "source": [
    "a = lista[0]\n",
    "b = lista[1]\n",
    "delta = lista[2]"
   ],
   "outputs": [],
   "metadata": {}
  },
  {
   "cell_type": "code",
   "execution_count": null,
   "source": [],
   "outputs": [],
   "metadata": {}
  }
 ],
 "metadata": {
  "orig_nbformat": 4,
  "language_info": {
   "name": "python",
   "version": "3.9.5",
   "mimetype": "text/x-python",
   "codemirror_mode": {
    "name": "ipython",
    "version": 3
   },
   "pygments_lexer": "ipython3",
   "nbconvert_exporter": "python",
   "file_extension": ".py"
  },
  "kernelspec": {
   "name": "python3",
   "display_name": "Python 3.9.5 64-bit"
  },
  "interpreter": {
   "hash": "916dbcbb3f70747c44a77c7bcd40155683ae19c65e1c03b4aa3499c5328201f1"
  }
 },
 "nbformat": 4,
 "nbformat_minor": 2
}