{
 "cells": [
  {
   "cell_type": "markdown",
   "source": [
    "# Questao 1\n"
   ],
   "metadata": {}
  },
  {
   "cell_type": "markdown",
   "source": [
    "coletando os dados, estabelecendo parametros e importando bibliotecas"
   ],
   "metadata": {}
  },
  {
   "cell_type": "code",
   "execution_count": 10,
   "source": [
    "import matplotlib.pyplot as plt\n",
    "import math\n",
    "import numpy as np\n",
    "\n",
    "d = 10\n",
    "l = 100\n",
    "t0 = 18\n",
    "Af = 78.47\n",
    "\n",
    "Sy = [0,0]\n",
    "lista_x = []\n",
    "lista_y = []\n",
    "\n",
    "with open(\"teste.txt\") as arquivo:\n",
    "    for linha in arquivo:\n",
    "        y,x = linha.split()\n",
    "        y = float(y)/(math.pi*(d/2)**2)\n",
    "        x = float(x)/(l)\n",
    "        lista_x.append(x)\n",
    "        lista_y.append(y)\n",
    "        if(y>Sy[1]):\n",
    "            Sy = [x,y]\n",
    "    "
   ],
   "outputs": [],
   "metadata": {}
  },
  {
   "cell_type": "markdown",
   "source": [
    "## i. Plote o diagrama tensão-deformação do material ensaiado. A partir dos gráficos, determine o limite de escoamento 𝑆𝑌 e módulo de elasticidade 𝐸 do material."
   ],
   "metadata": {}
  },
  {
   "cell_type": "code",
   "execution_count": 11,
   "source": [
    "plt.scatter(lista_x,lista_y)\n",
    "print(\"Limite de Escoamento: \", Sy[1])\n",
    "m,b = np.polyfit(lista_x, lista_y,1)\n",
    "print(\"E = \", m)"
   ],
   "outputs": [
    {
     "output_type": "stream",
     "name": "stdout",
     "text": [
      "Limite de Escoamento:  0.27800039543702015\n",
      "E =  196.9786270840915\n"
     ]
    },
    {
     "output_type": "display_data",
     "data": {
      "image/png": "[encoded data removed]",
      "text/plain": [
       "<Figure size 432x288 with 1 Axes>"
      ]
     },
     "metadata": {
      "needs_background": "light"
     }
    }
   ],
   "metadata": {}
  },
  {
   "cell_type": "markdown",
   "source": [
    "## ii. A partir dos valores medidos, determine o coeficiente de Poisson 𝜈 e o módulo de elasticidade transversal 𝐺 do material."
   ],
   "metadata": {}
  },
  {
   "cell_type": "code",
   "execution_count": 12,
   "source": [
    "d_final = 2 * math.sqrt(Af/math.pi)\n",
    "\n",
    "del_lat = d_final - d\n",
    "\n",
    "del_long = Sy[0]\n",
    "\n",
    "v = del_lat / del_long\n",
    "\n",
    "g = m/(2*(1 + v))\n",
    "\n",
    "print(\"V = \", v)\n",
    "print(\"G = \", g)"
   ],
   "outputs": [
    {
     "output_type": "stream",
     "name": "stdout",
     "text": [
      "V =  -3.1506976717626682\n",
      "G =  -45.79412291887865\n"
     ]
    }
   ],
   "metadata": {}
  },
  {
   "cell_type": "markdown",
   "source": [
    "## iii. Um segundo teste é realizado num segundo corpo de prova de mesmas dimensões, feito do mesmo material, a uma nova temperatura ambiente 𝑇1 = 26 °C. Para esse teste, são medidos a carga e o deslocamento longitudinal do corpo de prova. A partir desses novos resultados e dos resultados obtidos no item anterior, determine o coeficiente de dilatação térmica do material."
   ],
   "metadata": {}
  },
  {
   "cell_type": "code",
   "execution_count": 13,
   "source": [
    "Sy2 = [0,0]\n",
    "lista_x2 = []\n",
    "lista_y2 = []\n",
    "\n",
    "with open(\"testeii.txt\") as arquivo:\n",
    "    for linha in arquivo:\n",
    "        y,x = linha.split()\n",
    "        y = float(y)/(math.pi*(d/2)**2)\n",
    "        x = float(x)/l\n",
    "        lista_x2.append(x)\n",
    "        lista_y2.append(y)\n",
    "        if(y>Sy2[1]):\n",
    "            Sy2 = [x,y]\n",
    "plt.scatter(lista_x,lista_y)\n",
    "\n",
    "\n",
    "et = Sy2[0] - Sy[0]\n",
    "\n",
    "alpha = et/8\n",
    "\n",
    "print(\"alpha = \", alpha)"
   ],
   "outputs": [
    {
     "output_type": "stream",
     "name": "stdout",
     "text": [
      "alpha =  1.1000000000000023e-05\n"
     ]
    },
    {
     "output_type": "display_data",
     "data": {
      "image/png": "[encoded data removed]",
      "text/plain": [
       "<Figure size 432x288 with 1 Axes>"
      ]
     },
     "metadata": {
      "needs_background": "light"
     }
    }
   ],
   "metadata": {}
  },
  {
   "cell_type": "markdown",
   "source": [
    "# QUESTAO 2"
   ],
   "metadata": {}
  },
  {
   "cell_type": "markdown",
   "source": [
    "Coletando dados"
   ],
   "metadata": {}
  },
  {
   "cell_type": "code",
   "execution_count": 14,
   "source": [
    "with open(\"teste2.txt\", \"r\") as arquivo:\n",
    "    lista = []\n",
    "    for linha in arquivo:\n",
    "        try:\n",
    "            lista.append(float(linha.strip()))\n",
    "        except EOFError:\n",
    "            break\n",
    "    print(lista)\n",
    "a = lista[0]\n",
    "b = lista[1]\n",
    "delta = lista[2]"
   ],
   "outputs": [
    {
     "output_type": "stream",
     "name": "stdout",
     "text": [
      "[335.0, 260.0, 0.24]\n"
     ]
    }
   ],
   "metadata": {}
  },
  {
   "cell_type": "markdown",
   "source": [
    "## i. Qual a variação de temperatura Δ𝑇𝑎 que a placa deve ser submetida de forma a fechar completamente a folga em 𝑥?"
   ],
   "metadata": {}
  },
  {
   "cell_type": "code",
   "execution_count": 15,
   "source": [
    "deltaT = delta/((a)*alpha)\n",
    "print(deltaT)"
   ],
   "outputs": [
    {
     "output_type": "stream",
     "name": "stdout",
     "text": [
      "65.12890094979633\n"
     ]
    }
   ],
   "metadata": {}
  },
  {
   "cell_type": "markdown",
   "source": [
    "## ii. Qual a variação de temperatura Δ𝑇𝑏 que a placa deve ser submetida de forma a fechar completamente a folga em 𝑦? Qual a tensão 𝜎𝑥 correspondente?"
   ],
   "metadata": {}
  },
  {
   "cell_type": "code",
   "execution_count": 16,
   "source": [
    "deltaT = delta/((b)*alpha)\n",
    "print(deltaT)\n",
    "\n",
    "deltax = deltaT*alpha*m"
   ],
   "outputs": [
    {
     "output_type": "stream",
     "name": "stdout",
     "text": [
      "83.91608391608374\n"
     ]
    }
   ],
   "metadata": {}
  }
 ],
 "metadata": {
  "orig_nbformat": 4,
  "language_info": {
   "name": "python",
   "version": "3.9.5",
   "mimetype": "text/x-python",
   "codemirror_mode": {
    "name": "ipython",
    "version": 3
   },
   "pygments_lexer": "ipython3",
   "nbconvert_exporter": "python",
   "file_extension": ".py"
  },
  "kernelspec": {
   "name": "python3",
   "display_name": "Python 3.9.5 64-bit"
  },
  "interpreter": {
   "hash": "916dbcbb3f70747c44a77c7bcd40155683ae19c65e1c03b4aa3499c5328201f1"
  }
 },
 "nbformat": 4,
 "nbformat_minor": 2
}